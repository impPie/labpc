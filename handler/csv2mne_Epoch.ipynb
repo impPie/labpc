{
  "cells": [
    {
      "cell_type": "markdown",
      "metadata": {
        "id": "cmM-3ChpQSB9"
      },
      "source": [
        "Originalcodes"
      ]
    },
    {
      "cell_type": "code",
      "execution_count": 1,
      "metadata": {
        "id": "yLF4K9_Yolkd"
      },
      "outputs": [],
      "source": [
        "import mne\n",
        "import numpy as np\n",
        "from datetime import datetime, timedelta\n",
        "import os\n",
        "import matplotlib.pyplot as plt\n",
        "from loader import Loaddata"
      ]
    },
    {
      "cell_type": "markdown",
      "metadata": {
        "id": "tBOqycf3QSCA"
      },
      "source": [
        "class inputdata"
      ]
    },
    {
      "cell_type": "code",
      "execution_count": 2,
      "metadata": {},
      "outputs": [
        {
          "name": "stdout",
          "output_type": "stream",
          "text": [
            "---------------------\n",
            "Started to read D:/OneDrive - 筑波大学/lab/codes/MSlab_project/data/all_512Hz/ThP093_AL-2/ThP093_AL-2.csv\n",
            "---------------------\n",
            "Creating RawArray with float64 data, n_channels=1, n_times=11063296\n",
            "    Range : 0 ... 11063295 =      0.000 ... 86431.992 secs\n",
            "Ready.\n"
          ]
        }
      ],
      "source": [
        "ld = Loaddata()\n",
        "x = ld.to_mne_raw(\"D:/OneDrive - 筑波大学/lab/codes/MSlab_project/data/all_512Hz/ThP093_AL-2\", \"ThP093_AL-2\",1)"
      ]
    },
    {
      "cell_type": "code",
      "execution_count": 2,
      "metadata": {},
      "outputs": [
        {
          "name": "stdout",
          "output_type": "stream",
          "text": [
            "---------------------\n",
            "Started to read D:/OneDrive - 筑波大学/lab/codes/MSlab_project/data/all_512Hz/ThP093_AL-2/ThP093_AL-2.csv\n",
            "---------------------\n",
            "(11063296,)\n",
            "-> downsampling\n",
            "before downsampling: signal_rawarray.shape = (11063296,)\n",
            "epochNum = 21608\n",
            "(1, 2765824)\n",
            "Creating RawArray with float64 data, n_channels=1, n_times=2765824\n",
            "    Range : 0 ... 2765823 =      0.000 ... 21607.992 secs\n",
            "Ready.\n"
          ]
        }
      ],
      "source": [
        "ld = Loaddata()\n",
        "t = ld.ds_norm_mne(\"D:/OneDrive - 筑波大学/lab/codes/MSlab_project/data/all_512Hz/ThP093_AL-2\", \"ThP093_AL-2\",512)\n"
      ]
    },
    {
      "cell_type": "markdown",
      "metadata": {
        "id": "Ood1m2zpQSCB"
      },
      "source": [
        "# Load raw"
      ]
    },
    {
      "cell_type": "markdown",
      "metadata": {
        "id": "PjEDU313ziXE"
      },
      "source": [
        "one label"
      ]
    },
    {
      "cell_type": "code",
      "execution_count": null,
      "metadata": {},
      "outputs": [],
      "source": [
        "ld = Loaddata()\n",
        "o_pt = \"./data/512\"\n",
        "\n",
        "fds = [(os.path.join(o_pt,x),x) for x in os.listdir(o_pt)]\n",
        "ds_raws = mne.concatenate_raws([ld.ds_norm_mne(f[0],f[1],512) for f in fds])"
      ]
    },
    {
      "cell_type": "code",
      "execution_count": null,
      "metadata": {
        "id": "20dPjFge3P6L"
      },
      "outputs": [],
      "source": [
        "ld = Loaddata()\n",
        "o_pt = \"./data/allraw\"\n",
        "\n",
        "fds = [(os.path.join(o_pt,x),x) for x in os.listdir(o_pt)]\n",
        "raws = mne.concatenate_raws([ld.to_mne_raw(f[0],f[1]) for f in fds])\n",
        "\n",
        "# prf = \"EP098_AL-1\"\n",
        "# prf1 = \"EP098_BL-1\"\n",
        "# ai_path = \"./data/aiset\"\n",
        "# raws = mne.concatenate_raws([ld.twolabel_raw(o_pt+\"/\"+prf1,prf1,ai_path),ld.twolabel_raw(o_pt+\"/\"+prf,prf,ai_path)])\n"
      ]
    },
    {
      "cell_type": "markdown",
      "metadata": {
        "id": "ZIcpUGw7zgRA"
      },
      "source": [
        "Two labels"
      ]
    },
    {
      "cell_type": "code",
      "execution_count": null,
      "metadata": {
        "id": "INki_23iuQyb"
      },
      "outputs": [],
      "source": [
        "ld = Loaddata()\n",
        "o_pt = \"./data/allraw\"\n",
        "\n",
        "# o_pt = \"./data/three\"\n",
        "fds = [(os.path.join(o_pt,x),x) for x in os.listdir(o_pt)]\n",
        "# print(len(fds))\n",
        "ai_path = \"./data/aiset\"\n",
        "raws = mne.concatenate_raws([ld.twolabel_raw(f[0],f[1],ai_path,True) for f in fds if os.path.exists(ai_path+\"/\"+f[1]+\".txt\")])\n"
      ]
    },
    {
      "cell_type": "markdown",
      "metadata": {
        "id": "srYFseW1QSCC"
      },
      "source": [
        "extract HTW and LTW"
      ]
    },
    {
      "cell_type": "code",
      "execution_count": null,
      "metadata": {
        "colab": {
          "base_uri": "https://localhost:8080/"
        },
        "id": "Qyh-0GpbQSCD",
        "outputId": "7906449a-0d7b-4b4a-9773-ed78262a975a"
      },
      "outputs": [
        {
          "name": "stdout",
          "output_type": "stream",
          "text": [
            "Used Annotations descriptions: ['H?', 'HH', 'HL', 'HR', 'HS', 'L?', 'LH', 'LL', 'LR', 'LS', 'R?', 'RH', 'RL', 'RR', 'RS', 'S?', 'SH', 'SL', 'SR', 'SS']\n"
          ]
        }
      ],
      "source": [
        "events,id = mne.events_from_annotations(raws)\n",
        "tmax = 4. - 1. / raws.info['sfreq']  # tmax in included\n",
        "# picks = mne.pick_types(raw.info, eeg=True, emg=True)\n"
      ]
    },
    {
      "cell_type": "code",
      "execution_count": null,
      "metadata": {
        "colab": {
          "base_uri": "https://localhost:8080/"
        },
        "id": "wF6C0aL-62xZ",
        "outputId": "732f93c8-f40e-4dc4-f02e-b94291273c9c"
      },
      "outputs": [
        {
          "name": "stdout",
          "output_type": "stream",
          "text": [
            "Not setting metadata\n",
            "529509 matching events found\n",
            "No baseline correction applied\n",
            "0 projection items activated\n",
            "Using data from preloaded Raw for 529509 events and 512 original time points ...\n",
            "0 bad epochs dropped\n"
          ]
        }
      ],
      "source": [
        "epochs = mne.Epochs(raw=raws, events=events, event_id = id, preload=True, tmin=0., tmax=tmax, baseline=None)\n",
        "del raws"
      ]
    },
    {
      "cell_type": "code",
      "execution_count": null,
      "metadata": {
        "colab": {
          "base_uri": "https://localhost:8080/"
        },
        "id": "Fkc2eqdP4iRe",
        "outputId": "d2dbd2e7-8b9e-4b67-f7b7-38aa89a7d45e"
      },
      "outputs": [
        {
          "name": "stderr",
          "output_type": "stream",
          "text": [
            "<ipython-input-28-9a1f811450b7>:2: RuntimeWarning: This filename (epoch_fif/all_twolabel.fif) does not conform to MNE naming conventions. All epochs files should end with -epo.fif, -epo.fif.gz, _epo.fif or _epo.fif.gz\n",
            "  epochs.save(\"epoch_fif/all_twolabel.fif\")\n",
            "<ipython-input-28-9a1f811450b7>:2: RuntimeWarning: epochs.drop_log contains 529509 entries which will incur up to a 6.1 MB writing overhead (per split file), consider using epochs.reset_drop_log_selection() prior to writing\n",
            "  epochs.save(\"epoch_fif/all_twolabel.fif\")\n"
          ]
        }
      ],
      "source": [
        "# os.makedirs(\"epoch_fif\")\n",
        "epochs.save(\"epoch_fif/all_twolabel.fif\")"
      ]
    },
    {
      "cell_type": "code",
      "execution_count": null,
      "metadata": {
        "id": "zFQD8xZHJAJz"
      },
      "outputs": [],
      "source": [
        "del epochs"
      ]
    },
    {
      "cell_type": "code",
      "execution_count": null,
      "metadata": {
        "colab": {
          "base_uri": "https://localhost:8080/"
        },
        "id": "518NJdmrJOna",
        "outputId": "fbb00c79-c306-4b2e-91f1-e389c8380c92"
      },
      "outputs": [
        {
          "name": "stdout",
          "output_type": "stream",
          "text": [
            "Reading /content/drive/MyDrive/Colab Notebooks/train/epoch_fif/all_onelabel.fif ...\n"
          ]
        },
        {
          "name": "stderr",
          "output_type": "stream",
          "text": [
            "<ipython-input-22-ac8e1e4dc747>:1: RuntimeWarning: This filename (epoch_fif/all_onelabel.fif) does not conform to MNE naming conventions. All epochs files should end with -epo.fif, -epo.fif.gz, _epo.fif or _epo.fif.gz\n",
            "  epochs = mne.read_epochs(\"epoch_fif/all_onelabel.fif\")\n"
          ]
        },
        {
          "name": "stdout",
          "output_type": "stream",
          "text": [
            "Isotrak not found\n",
            "    Found the data of interest:\n",
            "        t =       0.00 ...    3992.19 ms\n",
            "        0 CTF compensation matrices available\n",
            "Not setting metadata\n",
            "556519 matching events found\n",
            "No baseline correction applied\n",
            "0 projection items activated\n"
          ]
        }
      ],
      "source": [
        "epochs = mne.read_epochs(\"epoch_fif/all_onelabel.fif\")"
      ]
    }
  ],
  "metadata": {
    "colab": {
      "provenance": []
    },
    "kernelspec": {
      "display_name": "Python 3.9.13 ('pytorch')",
      "language": "python",
      "name": "python3"
    },
    "language_info": {
      "codemirror_mode": {
        "name": "ipython",
        "version": 3
      },
      "file_extension": ".py",
      "mimetype": "text/x-python",
      "name": "python",
      "nbconvert_exporter": "python",
      "pygments_lexer": "ipython3",
      "version": "3.9.13"
    },
    "vscode": {
      "interpreter": {
        "hash": "0747f93ff6db21b2db2bf35ad4858dd0825b9c21797c41b4cc32097944ab3f10"
      }
    }
  },
  "nbformat": 4,
  "nbformat_minor": 0
}
