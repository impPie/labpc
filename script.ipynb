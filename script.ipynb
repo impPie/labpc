{
 "cells": [
  {
   "attachments": {},
   "cell_type": "markdown",
   "metadata": {},
   "source": [
    "Collect the raw and label"
   ]
  },
  {
   "cell_type": "code",
   "execution_count": null,
   "metadata": {},
   "outputs": [],
   "source": [
    "import os \n",
    "import shutil  # Define the path to the directory containing the files \n",
    "\n",
    "directory_path = \"./data/ten/\"  # List all files in the directory data/ten\n",
    "files = os.listdir(directory_path)  # Create a dictionary to store the files with the same prefix \n",
    "file_dict = {}  # Loop through all the files in the directory \n",
    "for file in files:     # Get the prefix of the file     \n",
    "    ppref = file.split(\".\")[0]\n",
    "    prefix = ppref.split(\"_\")[0]     # Check if the prefix is already in the dictionary     \n",
    "    if prefix in file_dict:         # If it is, append the file to the list of files with that prefix         \n",
    "        file_dict[prefix].append(file)     \n",
    "    else:         # If it isn't, create a new key-value pair with the prefix and the file         \n",
    "        file_dict[prefix] = [file]  # Loop through the dictionary and create a new directory for each prefix \n",
    "# print(file_dict)\n",
    "for prefix, files in file_dict.items():     \n",
    "    new_directory = os.path.join(directory_path, prefix)\n",
    "    if not os.path.exists(new_directory):       \n",
    "        os.mkdir(new_directory)     # Move each file with the prefix into the new directory\n",
    "        # print(new_directory)\n",
    "    for f in file_dict[prefix]:\n",
    "        old_path = os.path.join(directory_path, f)          #         \n",
    "        new_path = os.path.join(new_directory, f)          #         \n",
    "        shutil.move(old_path, new_path)   #         \n",
    "        print(str(f)+\" Files moved successfully.\\n\")        \n",
    "#         old_path = os.path.join(directory_path, file)         \n",
    "#         new_path = os.path.join(new_directory, file)         \n",
    "#         shutil.move(old_path, new_path)  \n",
    "#         print(\"Files moved successfully.\")"
   ]
  },
  {
   "attachments": {},
   "cell_type": "markdown",
   "metadata": {},
   "source": [
    "find differences    "
   ]
  },
  {
   "attachments": {},
   "cell_type": "markdown",
   "metadata": {},
   "source": [
    "delete otheerr"
   ]
  },
  {
   "cell_type": "code",
   "execution_count": null,
   "metadata": {},
   "outputs": [],
   "source": [
    "import os\n",
    "raw_path = \"D:\\\\OneDrive - 筑波大学\\\\lab\\\\codes\\\\MSlab_project\\\\data\\\\csv\"\n",
    "fs = os.listdir(raw_path)\n",
    "for filename in fs:\n",
    "    if \"_AFst\" in filename or \"VStrn\" in filename:\n",
    "        os.remove(os.path.join(raw_path,filename))\n",
    "        print(\"delete success:\",filename)\n"
   ]
  },
  {
   "attachments": {},
   "cell_type": "markdown",
   "metadata": {},
   "source": [
    "combine ai judged label into a main folder"
   ]
  },
  {
   "cell_type": "code",
   "execution_count": null,
   "metadata": {},
   "outputs": [],
   "source": [
    "import os\n",
    "import shutil\n",
    "\n",
    "# Set the directory path to start searching for files\n",
    "root_directory = '..\\\\data\\\\all_ai'\n",
    "\n",
    "# Set the directory path to store the moved files\n",
    "main_directory = '..\\\\data\\\\aiset'\n",
    "if not os.path.exists(main_directory):\n",
    "    os.mkdir(main_directory)\n",
    "# Initialize an empty set to store the file names\n",
    "file_names = set()\n",
    "\n",
    "# Traverse through all the subfolders using os.walk() method\n",
    "for dirpath, dirnames, filenames in os.walk(root_directory):\n",
    "\n",
    "    # Loop through all the files in the current directory\n",
    "    for filename in filenames:\n",
    "        print(filename)\n",
    "        # Create the full file path by joining the directory path and file name\n",
    "        file_path = os.path.join(dirpath, filename)\n",
    "\n",
    "        # Check if the file is not a duplicate\n",
    "        if file_path not in file_names:\n",
    "\n",
    "            # Add the file name to the set\n",
    "            file_names.add(file_path)\n",
    "\n",
    "            # Create the new file path by joining the main directory and file name\n",
    "            new_file_path = os.path.join(main_directory, filename)\n",
    "            print(new_file_path)\n",
    "\n",
    "            # Move the file to the new path\n",
    "            shutil.move(file_path, new_file_path)\n"
   ]
  },
  {
   "cell_type": "code",
   "execution_count": null,
   "metadata": {},
   "outputs": [],
   "source": [
    "# os.makedirs(\"data\\\\allraw\\\\\")\n",
    "os.getcwd()"
   ]
  },
  {
   "attachments": {},
   "cell_type": "markdown",
   "metadata": {},
   "source": [
    "copy raw and label into folder"
   ]
  },
  {
   "cell_type": "code",
   "execution_count": null,
   "metadata": {},
   "outputs": [],
   "source": [
    "import os\n",
    "import shutil\n",
    "raw_path = \"D:\\OneDrive - 筑波大学\\lab\\data\\B_512Hz4sec4stage\\csv\"\n",
    "fs = os.listdir(raw_path)\n",
    "fls = []\n",
    "for filename in fs:\n",
    "    if \"Trend\" in filename:\n",
    "        f = filename.split(\"_Trend.\")[0]\n",
    "        fls.append(f)\n",
    "        # print(\"delete success:\", filename)\n",
    "for f in fls:\n",
    "    rawf = f+\".csv\"\n",
    "    trdf = f+\"_Trend.csv\"\n",
    "    newp = os.path.join(\"../data/all_512Hz\",f)\n",
    "    print(newp)\n",
    "    if not os.path.exists(newp):\n",
    "        os.makedirs(newp)\n",
    "    oldp1 = os.path.join(raw_path,rawf)\n",
    "    oldp2 = os.path.join(raw_path,trdf)\n",
    "    newp1 = os.path.join(newp,rawf)\n",
    "    newp2 = os.path.join(newp,trdf)\n",
    "\n",
    "    # shutil.move(oldp1, newp1)\n",
    "    # shutil.move(oldp2, newp2)\n",
    "    shutil.copyfile(oldp2, newp2)\n",
    "    shutil.copyfile(oldp1, newp1)\n"
   ]
  }
 ],
 "metadata": {
  "kernelspec": {
   "display_name": "base",
   "language": "python",
   "name": "python3"
  },
  "language_info": {
   "codemirror_mode": {
    "name": "ipython",
    "version": 3
   },
   "file_extension": ".py",
   "mimetype": "text/x-python",
   "name": "python",
   "nbconvert_exporter": "python",
   "pygments_lexer": "ipython3",
   "version": "3.9.13"
  },
  "orig_nbformat": 4,
  "vscode": {
   "interpreter": {
    "hash": "88279d2366fe020547cde40dd65aa0e3aa662a6ec1f3ca12d88834876c85e1a6"
   }
  }
 },
 "nbformat": 4,
 "nbformat_minor": 2
}
